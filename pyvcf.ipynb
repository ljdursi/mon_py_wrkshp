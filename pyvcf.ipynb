{
 "cells": [
  {
   "cell_type": "markdown",
   "metadata": {},
   "source": [
    "# Ostensibly examining VCF files with pyvcf\n",
    "### But really, accessing remote files and some bioinformatic dictionary usage\n",
    "\n",
    "Objectives:\n",
    "\n",
    "* access remote files with streams or by downloading\n",
    "* practise scanning through a file, in this case record by record of VCF files\n",
    "* use dictionaries both to access INFO fields and to generate summary data\n",
    "* Compare across dictionaries"
   ]
  },
  {
   "cell_type": "code",
   "execution_count": 15,
   "metadata": {
    "collapsed": false
   },
   "outputs": [],
   "source": [
    "import vcf\n",
    "import urllib.request\n",
    "import matplotlib.pylab as plt\n",
    "import numpy as np\n",
    "%matplotlib inline"
   ]
  },
  {
   "cell_type": "markdown",
   "metadata": {},
   "source": [
    "The version of pyvcf we're using here doesn't handle opening remote URLs as nicely as pandas does.  However,\n",
    "it can take two types of input arguments; either something that looks like an open file, or a local filename.\n",
    "\n",
    "`urllib` lets us deal with remote files with URLs very nicely in a couple of ways we'll look at:\n",
    "scanning through the file, or just downloading it:"
   ]
  },
  {
   "cell_type": "code",
   "execution_count": 2,
   "metadata": {
    "collapsed": false
   },
   "outputs": [
    {
     "name": "stdout",
     "output_type": "stream",
     "text": [
      "NIST Genome in a Bottle NA12878 vcf/bed file repository (www.genomeinabottle.org)\n",
      "\n",
      "\n",
      "\n",
      "This is a repository of integrated snp and indel calls for NA12878, along with bed file that includes regions in which we believe our genotype calls are highly accurate (including homozygous reference calls if no snp or indel is called).  This is an updated version of our calls from Zook et al, Nat Biotech, 2014 (http://www.nature.com/nbt/journal/v32/n3/full/nbt.2835.html), which fixes a bug that caused more indels to be uncertain than necessary, so that these calls contain significantly more indels.  Otherwise, methods are similar to those described in the manuscript.\n",
      "\n",
      "\n",
      "\n"
     ]
    }
   ],
   "source": [
    "remote_readme_url = \"ftp://ftp-trace.ncbi.nih.gov/giab/ftp/release/NA12878_HG001/latest/README.NIST.v2.19.txt\"\n",
    "remote_stream = urllib.request.urlopen(remote_readme_url) \n",
    "    \n",
    "linecount = 0\n",
    "for line in remote_stream:\n",
    "    #print(line)\n",
    "    print(line.decode('ascii'))\n",
    "    linecount = linecount + 1\n",
    "    if linecount > 3:\n",
    "        break\n",
    "        \n",
    "remote_stream.close()"
   ]
  },
  {
   "cell_type": "markdown",
   "metadata": {},
   "source": [
    "We can open such a stream with a vcf reader and get the header information:"
   ]
  },
  {
   "cell_type": "code",
   "execution_count": 3,
   "metadata": {
    "collapsed": false
   },
   "outputs": [
    {
     "name": "stdout",
     "output_type": "stream",
     "text": [
      "Variant Level information\n",
      "AC\n",
      "AF\n",
      "AN\n",
      "DP\n",
      "DPSum\n",
      "Entropy\n",
      "HRun\n",
      "HapNoVar\n",
      "LEN\n",
      "NoCG\n",
      "NoPLTot\n",
      "PL454WG\n",
      "PLCG\n",
      "PLHSWEx\n",
      "PLHSWG\n",
      "PLILL250\n",
      "PLILLCLIA\n",
      "PLILLWEx\n",
      "PLILLWG\n",
      "PLIllPCRFree\n",
      "PLIonEx\n",
      "PLPlatGen\n",
      "PLXIll\n",
      "PLXPSolWGLS\n",
      "PLminsum\n",
      "PLminsumOverDP\n",
      "RPA\n",
      "RU\n",
      "TYPE\n",
      "TrancheABQDmin2\n",
      "TrancheAlignmin2\n",
      "TrancheMapmin2\n",
      "TrancheSSEmin2\n",
      "YesPLtot\n",
      "allalts\n",
      "datasetcalls\n",
      "filter\n",
      "geno\n",
      "genoMapGood\n",
      "platformbias\n",
      "platformnames\n",
      "platforms\n",
      "varType\n",
      "\n",
      "Sample Level information\n",
      "DP\n",
      "GQ\n",
      "GT\n",
      "PL\n"
     ]
    }
   ],
   "source": [
    "remote_file_url = \"ftp://ftp-trace.ncbi.nih.gov/giab/ftp/release/NA12878_HG001/latest/NISTIntegratedCalls_14datasets_131103_allcall_UGHapMerge_HetHomVarPASS_VQSRv2.19_2mindatasets_5minYesNoRatio_all_nouncert_excludesimplerep_excludesegdups_excludedecoy_excludeRepSeqSTRs_noCNVs.vcf.gz\"\n",
    "remote_stream = urllib.request.urlopen(remote_file_url)\n",
    "    \n",
    "v = vcf.Reader(remote_stream, compressed=True)\n",
    "\n",
    "print('Variant Level information')\n",
    "infos = v.infos\n",
    "for info in infos:\n",
    "    print(info)\n",
    "\n",
    "print()\n",
    "print('Sample Level information')\n",
    "fmts = v.formats\n",
    "for fmt in fmts:\n",
    "    print(fmt)\n",
    "    \n",
    "remote_stream.close()"
   ]
  },
  {
   "cell_type": "markdown",
   "metadata": {},
   "source": [
    "But because we'll be scanning over this file repeatedly, let's get a subset of it locally:"
   ]
  },
  {
   "cell_type": "code",
   "execution_count": 4,
   "metadata": {
    "collapsed": false
   },
   "outputs": [
    {
     "data": {
      "text/plain": [
       "('NIST_chr20.vcf.gz', <http.client.HTTPMessage at 0x10fa732e8>)"
      ]
     },
     "execution_count": 4,
     "metadata": {},
     "output_type": "execute_result"
    }
   ],
   "source": [
    "chr20_filename=\"https://github.com/ljdursi/mon_py_wrkshp/blob/master/NISTIntegratedCalls_chr20.vcf.gz?raw=true\"\n",
    "localfilename=\"NIST_chr20.vcf.gz\"\n",
    "urllib.request.urlretrieve(chr20_filename, localfilename)"
   ]
  },
  {
   "cell_type": "markdown",
   "metadata": {},
   "source": [
    "Let's see what we can do with one of these files.  When we open a vcf file, we have to call a function `next` to get a record:"
   ]
  },
  {
   "cell_type": "code",
   "execution_count": 84,
   "metadata": {
    "collapsed": false
   },
   "outputs": [
    {
     "name": "stdout",
     "output_type": "stream",
     "text": [
      "Record(CHROM=20, POS=61138, REF=C, ALT=[CT])\n",
      "61138\n",
      "{'varType': 'INDEL', 'YesPLtot': 7, 'DPSum': 571, 'TrancheMapmin2': 0.0, 'HapNoVar': 0, 'PLILLWG': ['133', '0', '108', '133', '133', '133'], 'PLHSWG': ['684', '0', '649', '684', '684', '684'], 'RU': 'T', 'TrancheAlignmin2': 0.0, 'platforms': 1, 'NoPLTot': 1, 'TrancheABQDmin2': 90.0, 'RPA': [12, 13], 'PLminsumOverDP': 7.31, 'geno': 2, 'platformnames': ['ill'], 'PLILL250': ['296', '0', '430', '430', '430', '430'], 'PLCG': ['6', '0', '100', '100', '100', '100'], 'TrancheSSEmin2': 90.0, 'allalts': ['CT', 'T'], 'PLILLCLIA': ['512', '0', '657', '657', '657', '657'], 'PLXIll': ['281', '0', '284', '284', '284', '284'], 'PLPlatGen': ['1922', '0', '2315', '2315', '2315', '2315'], 'HRun': 0, 'PLminsum': 4173, 'PLNCIIonWG': ['0', '127', '127', '18', '127', '127'], 'PLIllPCRFree': ['466', '0', '430', '466', '466', '466'], 'PLIonEx': ['filteredSSE99.9Align99.9', '0', '46', '46', '6', '46', '46'], 'platformbias': ['none'], 'datasetcalls': 10, 'genoMapGood': 7}\n",
      "['ill']\n",
      "[Call(sample=NA12878, CallData(GT=0/1, DP=571, GQ=4173, PL=[4300, 127, 5100]))]\n",
      "0/1\n"
     ]
    }
   ],
   "source": [
    "reader = vcf.Reader(filename=localfilename)\n",
    "record = next(reader)\n",
    "print(record)\n",
    "print(record.POS)\n",
    "print(record.INFO)\n",
    "print(record.INFO['platformnames'])\n",
    "print(record.samples)\n",
    "print(record.samples[0]['GT'])"
   ]
  },
  {
   "cell_type": "markdown",
   "metadata": {},
   "source": [
    "The usual way to process a file, VCF or otherwise, is to loop over lines in the file and process them as you like:"
   ]
  },
  {
   "cell_type": "code",
   "execution_count": 72,
   "metadata": {
    "collapsed": false
   },
   "outputs": [
    {
     "name": "stdout",
     "output_type": "stream",
     "text": [
      "Record(CHROM=20, POS=61138, REF=C, ALT=[CT]) 0/1 INDEL 571 ['ill']\n",
      "Record(CHROM=20, POS=67500, REF=T, ALT=[TTGGTATCTAG]) 0/1 INDEL 602 ['ill', '454', 'sol', 'cg', 'ion']\n",
      "Record(CHROM=20, POS=68749, REF=T, ALT=[C]) 1/1 SNP 768 ['ill', '454', 'cg']\n",
      "Record(CHROM=20, POS=70484, REF=CTCTT, ALT=[C]) 0/1 INDEL 671 ['ill', '454', 'sol', 'cg', 'ion']\n",
      "Record(CHROM=20, POS=70980, REF=G, ALT=[A]) 0/1 SNP 799 ['ill', '454', 'cg', 'ion']\n"
     ]
    }
   ],
   "source": [
    "reader = vcf.Reader(filename=localfilename)\n",
    "recordnum = 0\n",
    "for record in reader:\n",
    "    print(record, record.samples[0]['GT'], record.INFO['varType'], record.INFO['DPSum'])\n",
    "    recordnum += 1\n",
    "    if recordnum == 5:\n",
    "        break"
   ]
  },
  {
   "cell_type": "markdown",
   "metadata": {},
   "source": [
    "Hands-on: write a function, `get_depths`, which is given a filename and returns a list of all `DPSum` info fields - this is the total depth across all platforms at which this base was seen."
   ]
  },
  {
   "cell_type": "code",
   "execution_count": 7,
   "metadata": {
    "collapsed": false
   },
   "outputs": [],
   "source": [
    "def get_depths(input_file):\n",
    "    depth_counts = []\n",
    "    depth_item = 'DPSum'\n",
    "    reader = vcf.Reader(filename=input_file)\n",
    "    for record in reader:\n",
    "        if depth_item in record.INFO:\n",
    "            depth = int(record.INFO[depth_item])\n",
    "            depth_counts.append(depth)\n",
    "    return depth_counts"
   ]
  },
  {
   "cell_type": "code",
   "execution_count": 8,
   "metadata": {
    "collapsed": false
   },
   "outputs": [],
   "source": [
    "depths = get_depths(localfilename)"
   ]
  },
  {
   "cell_type": "code",
   "execution_count": 9,
   "metadata": {
    "collapsed": false
   },
   "outputs": [
    {
     "data": {
      "text/plain": [
       "(array([  5.00000000e+00,   7.00000000e+00,   1.30000000e+01,\n",
       "          1.70000000e+01,   2.90000000e+01,   3.30000000e+01,\n",
       "          6.00000000e+01,   9.60000000e+01,   1.05000000e+02,\n",
       "          1.76000000e+02,   2.13000000e+02,   3.31000000e+02,\n",
       "          4.50000000e+02,   5.55000000e+02,   8.07000000e+02,\n",
       "          1.07400000e+03,   1.47600000e+03,   2.01000000e+03,\n",
       "          2.66600000e+03,   3.63600000e+03,   5.19100000e+03,\n",
       "          6.66000000e+03,   9.00000000e+03,   9.50300000e+03,\n",
       "          9.59300000e+03,   7.85300000e+03,   5.22900000e+03,\n",
       "          3.10800000e+03,   1.52900000e+03,   7.44000000e+02,\n",
       "          3.66000000e+02,   1.54000000e+02,   1.08000000e+02,\n",
       "          9.00000000e+01,   6.50000000e+01,   6.00000000e+01,\n",
       "          5.20000000e+01,   4.60000000e+01,   3.20000000e+01,\n",
       "          1.80000000e+01,   1.70000000e+01,   1.50000000e+01,\n",
       "          3.00000000e+00,   5.00000000e+00,   3.00000000e+00,\n",
       "          0.00000000e+00,   3.00000000e+00,   2.00000000e+00,\n",
       "          3.00000000e+00,   2.00000000e+00]),\n",
       " array([   92.  ,   117.62,   143.24,   168.86,   194.48,   220.1 ,\n",
       "          245.72,   271.34,   296.96,   322.58,   348.2 ,   373.82,\n",
       "          399.44,   425.06,   450.68,   476.3 ,   501.92,   527.54,\n",
       "          553.16,   578.78,   604.4 ,   630.02,   655.64,   681.26,\n",
       "          706.88,   732.5 ,   758.12,   783.74,   809.36,   834.98,\n",
       "          860.6 ,   886.22,   911.84,   937.46,   963.08,   988.7 ,\n",
       "         1014.32,  1039.94,  1065.56,  1091.18,  1116.8 ,  1142.42,\n",
       "         1168.04,  1193.66,  1219.28,  1244.9 ,  1270.52,  1296.14,\n",
       "         1321.76,  1347.38,  1373.  ]),\n",
       " <a list of 50 Patch objects>)"
      ]
     },
     "execution_count": 9,
     "metadata": {},
     "output_type": "execute_result"
    },
    {
     "data": {
      "image/png": "[encoded data removed]",
      "text/plain": [
       "<matplotlib.figure.Figure at 0x10fa834a8>"
      ]
     },
     "metadata": {},
     "output_type": "display_data"
    }
   ],
   "source": [
    "plt.hist(depths, bins=50)"
   ]
  },
  {
   "cell_type": "markdown",
   "metadata": {},
   "source": [
    "TODO:\n",
    "\n",
    "* Demonstrate: get counts as dictionary\n",
    "    * defaultdict\n",
    "* Hands on: generate defaultdict of counts by varianttype, genotype\n",
    "* Generate list of dictionaries of calls by platform type; using those, investigate overlap and no-overlap of calls by platform.  Eg, how many calls were made by illumina that weren't made by 10x?"
   ]
  },
  {
   "cell_type": "markdown",
   "metadata": {},
   "source": [
    "We'd actually like our data structured in a little more structured a way than just a list of counts - there's obviously a lot of variants with a depth of (say) 650, but how many?  A very useful way to tackle this question \n",
    "is with a dictionary.  How would we loop over the depths and generate a dictionary such that `depth_dict[320]` gave us the number of variants at depth 320?"
   ]
  },
  {
   "cell_type": "code",
   "execution_count": 16,
   "metadata": {
    "collapsed": false
   },
   "outputs": [
    {
     "name": "stdout",
     "output_type": "stream",
     "text": [
      "{92: 1, 101: 1, 114: 1, 115: 1, 116: 1, 123: 1, 131: 1, 133: 1, 134: 1, 135: 1, 138: 2, 146: 1, 147: 1, 148: 1, 150: 1, 154: 2, 156: 1, 157: 1, 159: 1, 161: 1, 162: 1, 163: 1, 168: 1, 170: 1, 174: 2, 177: 1, 178: 1, 179: 1, 181: 2, 182: 1, 185: 1, 186: 1, 187: 1, 189: 1, 191: 2, 192: 1, 193: 1, 195: 1, 196: 1, 197: 1, 198: 2, 200: 1, 202: 2, 203: 1, 205: 1, 206: 2, 208: 1, 209: 3, 211: 4, 214: 3, 216: 1, 217: 2, 218: 2, 220: 1, 222: 2, 224: 1, 226: 3, 227: 1, 228: 2, 229: 2, 231: 2, 232: 2, 233: 1, 234: 1, 235: 2, 236: 2, 237: 2, 238: 2, 239: 1, 241: 4, 242: 1, 245: 2, 249: 1, 250: 3, 251: 3, 252: 5, 253: 1, 254: 2, 255: 1, 256: 1, 257: 4, 259: 4, 260: 2, 262: 5, 264: 6, 265: 2, 267: 4, 268: 3, 269: 6, 270: 3, 271: 4, 272: 7, 273: 5, 274: 3, 275: 4, 276: 4, 277: 4, 278: 5, 279: 1, 280: 4, 281: 3, 282: 2, 283: 4, 285: 5, 286: 4, 287: 5, 289: 3, 290: 5, 291: 7, 292: 2, 293: 5, 294: 6, 295: 7, 296: 1, 297: 4, 298: 1, 299: 8, 300: 5, 301: 4, 302: 4, 303: 2, 304: 8, 305: 3, 306: 6, 307: 6, 308: 2, 309: 5, 310: 2, 311: 2, 312: 3, 313: 4, 314: 7, 315: 2, 316: 3, 317: 5, 318: 2, 319: 4, 320: 3, 321: 4, 322: 6, 323: 4, 324: 8, 325: 5, 326: 8, 327: 9, 328: 3, 329: 4, 330: 6, 331: 5, 332: 2, 333: 4, 334: 9, 335: 8, 336: 4, 337: 10, 338: 11, 339: 10, 340: 11, 341: 14, 342: 10, 343: 4, 344: 4, 345: 4, 346: 8, 347: 4, 348: 7, 349: 11, 350: 4, 351: 12, 352: 7, 353: 7, 354: 4, 355: 7, 356: 12, 357: 12, 358: 7, 359: 5, 360: 7, 361: 5, 362: 6, 363: 8, 364: 11, 365: 10, 366: 11, 367: 10, 368: 3, 369: 7, 370: 12, 371: 10, 372: 12, 373: 13, 374: 4, 375: 13, 376: 9, 377: 8, 378: 10, 379: 14, 380: 11, 381: 13, 382: 11, 383: 15, 384: 12, 385: 8, 386: 14, 387: 10, 388: 11, 389: 19, 390: 15, 391: 15, 392: 12, 393: 14, 394: 12, 395: 16, 396: 11, 397: 20, 398: 17, 399: 17, 400: 13, 401: 23, 402: 19, 403: 12, 404: 15, 405: 16, 406: 18, 407: 18, 408: 14, 409: 17, 410: 11, 411: 10, 412: 15, 413: 17, 414: 19, 415: 21, 416: 9, 417: 26, 418: 18, 419: 27, 420: 20, 421: 15, 422: 13, 423: 23, 424: 21, 425: 20, 426: 16, 427: 12, 428: 25, 429: 29, 430: 22, 431: 19, 432: 16, 433: 20, 434: 21, 435: 20, 436: 22, 437: 24, 438: 31, 439: 15, 440: 14, 441: 18, 442: 28, 443: 31, 444: 27, 445: 30, 446: 21, 447: 21, 448: 25, 449: 23, 450: 25, 451: 27, 452: 26, 453: 30, 454: 23, 455: 23, 456: 41, 457: 40, 458: 30, 459: 22, 460: 27, 461: 39, 462: 30, 463: 29, 464: 36, 465: 29, 466: 37, 467: 27, 468: 38, 469: 26, 470: 30, 471: 34, 472: 39, 473: 30, 474: 32, 475: 23, 476: 39, 477: 37, 478: 36, 479: 39, 480: 46, 481: 42, 482: 41, 483: 46, 484: 46, 485: 30, 486: 43, 487: 39, 488: 44, 489: 55, 490: 44, 491: 49, 492: 36, 493: 47, 494: 41, 495: 38, 496: 48, 497: 37, 498: 51, 499: 51, 500: 53, 501: 35, 502: 51, 503: 48, 504: 52, 505: 43, 506: 41, 507: 52, 508: 58, 509: 54, 510: 41, 511: 64, 512: 56, 513: 50, 514: 49, 515: 55, 516: 64, 517: 64, 518: 58, 519: 59, 520: 73, 521: 69, 522: 53, 523: 76, 524: 58, 525: 49, 526: 75, 527: 64, 528: 62, 529: 70, 530: 72, 531: 67, 532: 74, 533: 75, 534: 64, 535: 76, 536: 68, 537: 76, 538: 72, 539: 90, 540: 85, 541: 89, 542: 73, 543: 81, 544: 89, 545: 84, 546: 78, 547: 91, 548: 67, 549: 78, 550: 88, 551: 72, 552: 80, 553: 89, 554: 93, 555: 98, 556: 81, 557: 88, 558: 93, 559: 85, 560: 94, 561: 88, 562: 106, 563: 122, 564: 96, 565: 103, 566: 108, 567: 110, 568: 110, 569: 110, 570: 122, 571: 123, 572: 128, 573: 114, 574: 114, 575: 119, 576: 108, 577: 132, 578: 121, 579: 122, 580: 128, 581: 104, 582: 120, 583: 151, 584: 111, 585: 127, 586: 96, 587: 135, 588: 146, 589: 137, 590: 135, 591: 143, 592: 170, 593: 147, 594: 136, 595: 145, 596: 159, 597: 172, 598: 158, 599: 128, 600: 149, 601: 170, 602: 125, 603: 154, 604: 168, 605: 144, 606: 179, 607: 174, 608: 171, 609: 159, 610: 173, 611: 184, 612: 181, 613: 173, 614: 204, 615: 179, 616: 216, 617: 206, 618: 223, 619: 212, 620: 196, 621: 213, 622: 208, 623: 219, 624: 201, 625: 197, 626: 236, 627: 234, 628: 244, 629: 241, 630: 224, 631: 238, 632: 244, 633: 257, 634: 235, 635: 265, 636: 271, 637: 235, 638: 238, 639: 259, 640: 263, 641: 262, 642: 274, 643: 256, 644: 256, 645: 267, 646: 269, 647: 262, 648: 292, 649: 277, 650: 258, 651: 299, 652: 291, 653: 301, 654: 292, 655: 299, 656: 331, 657: 304, 658: 319, 659: 281, 660: 345, 661: 325, 662: 369, 663: 343, 664: 356, 665: 337, 666: 369, 667: 370, 668: 334, 669: 324, 670: 347, 671: 332, 672: 339, 673: 362, 674: 339, 675: 359, 676: 367, 677: 367, 678: 382, 679: 354, 680: 387, 681: 358, 682: 352, 683: 359, 684: 360, 685: 369, 686: 405, 687: 375, 688: 406, 689: 378, 690: 386, 691: 412, 692: 372, 693: 370, 694: 350, 695: 384, 696: 393, 697: 412, 698: 378, 699: 357, 700: 379, 701: 377, 702: 341, 703: 382, 704: 403, 705: 396, 706: 407, 707: 394, 708: 381, 709: 408, 710: 375, 711: 395, 712: 412, 713: 382, 714: 375, 715: 385, 716: 404, 717: 362, 718: 390, 719: 364, 720: 367, 721: 354, 722: 329, 723: 353, 724: 359, 725: 341, 726: 371, 727: 373, 728: 341, 729: 374, 730: 346, 731: 302, 732: 356, 733: 331, 734: 352, 735: 369, 736: 343, 737: 311, 738: 330, 739: 343, 740: 336, 741: 312, 742: 293, 743: 314, 744: 318, 745: 325, 746: 285, 747: 294, 748: 286, 749: 287, 750: 293, 751: 308, 752: 299, 753: 289, 754: 254, 755: 230, 756: 228, 757: 243, 758: 280, 759: 264, 760: 248, 761: 247, 762: 226, 763: 265, 764: 237, 765: 245, 766: 228, 767: 219, 768: 233, 769: 215, 770: 225, 771: 215, 772: 207, 773: 200, 774: 195, 775: 172, 776: 189, 777: 164, 778: 195, 779: 169, 780: 183, 781: 158, 782: 158, 783: 172, 784: 156, 785: 158, 786: 123, 787: 154, 788: 150, 789: 136, 790: 129, 791: 142, 792: 118, 793: 118, 794: 139, 795: 126, 796: 119, 797: 117, 798: 96, 799: 112, 800: 118, 801: 117, 802: 110, 803: 112, 804: 91, 805: 89, 806: 89, 807: 95, 808: 102, 809: 92, 810: 73, 811: 89, 812: 76, 813: 90, 814: 79, 815: 75, 816: 84, 817: 72, 818: 68, 819: 78, 820: 57, 821: 68, 822: 43, 823: 64, 824: 52, 825: 50, 826: 60, 827: 65, 828: 44, 829: 40, 830: 30, 831: 48, 832: 44, 833: 34, 834: 46, 835: 51, 836: 39, 837: 43, 838: 38, 839: 40, 840: 37, 841: 37, 842: 28, 843: 17, 844: 32, 845: 25, 846: 26, 847: 28, 848: 32, 849: 36, 850: 24, 851: 22, 852: 31, 853: 27, 854: 33, 855: 14, 856: 24, 857: 16, 858: 14, 859: 14, 860: 16, 861: 23, 862: 21, 863: 10, 864: 16, 865: 18, 866: 19, 867: 12, 868: 15, 869: 17, 870: 21, 871: 15, 872: 15, 873: 16, 874: 15, 875: 15, 876: 5, 877: 10, 878: 8, 879: 19, 880: 15, 881: 10, 882: 8, 883: 10, 884: 10, 885: 17, 886: 6, 887: 11, 888: 5, 889: 10, 890: 6, 891: 5, 892: 5, 893: 4, 894: 6, 895: 7, 896: 6, 897: 6, 898: 3, 899: 5, 900: 7, 901: 8, 902: 11, 903: 8, 904: 5, 905: 7, 906: 2, 907: 5, 908: 8, 909: 5, 910: 4, 911: 5, 912: 4, 913: 5, 914: 4, 915: 3, 916: 7, 917: 6, 918: 6, 919: 3, 920: 1, 921: 3, 922: 1, 923: 6, 924: 8, 925: 5, 926: 2, 927: 6, 928: 8, 929: 7, 930: 3, 931: 4, 932: 3, 933: 2, 934: 2, 935: 1, 936: 2, 937: 6, 938: 3, 939: 4, 940: 7, 941: 5, 942: 5, 943: 5, 944: 1, 945: 1, 946: 6, 947: 1, 948: 1, 949: 4, 950: 7, 951: 4, 952: 4, 953: 3, 954: 1, 955: 4, 956: 3, 957: 2, 958: 1, 959: 4, 960: 5, 961: 4, 962: 4, 963: 1, 964: 1, 965: 5, 966: 6, 968: 3, 969: 5, 970: 1, 971: 1, 972: 2, 973: 3, 975: 1, 976: 4, 977: 3, 978: 4, 979: 4, 980: 4, 981: 3, 983: 5, 985: 2, 986: 3, 987: 4, 988: 1, 989: 2, 990: 2, 991: 1, 992: 2, 993: 5, 994: 2, 995: 7, 996: 3, 997: 2, 998: 1, 999: 5, 1000: 1, 1001: 1, 1002: 2, 1005: 6, 1007: 3, 1008: 2, 1009: 2, 1010: 2, 1011: 2, 1012: 1, 1013: 4, 1014: 2, 1015: 1, 1016: 3, 1017: 3, 1019: 1, 1020: 3, 1023: 1, 1024: 4, 1025: 3, 1026: 3, 1027: 3, 1028: 5, 1029: 3, 1030: 1, 1032: 3, 1033: 3, 1034: 3, 1035: 3, 1037: 4, 1039: 2, 1040: 1, 1041: 1, 1042: 3, 1043: 4, 1044: 3, 1045: 4, 1047: 1, 1048: 3, 1050: 2, 1051: 1, 1052: 1, 1053: 1, 1054: 3, 1055: 1, 1056: 1, 1057: 2, 1058: 3, 1059: 2, 1061: 1, 1062: 1, 1063: 2, 1064: 3, 1065: 2, 1066: 1, 1067: 1, 1069: 4, 1070: 1, 1071: 2, 1072: 1, 1073: 2, 1074: 2, 1076: 3, 1077: 1, 1078: 2, 1079: 1, 1080: 1, 1081: 1, 1082: 2, 1083: 1, 1084: 1, 1086: 1, 1087: 1, 1089: 1, 1090: 2, 1095: 1, 1097: 2, 1098: 1, 1100: 1, 1103: 1, 1104: 2, 1107: 1, 1108: 2, 1110: 1, 1114: 3, 1116: 3, 1118: 1, 1120: 2, 1121: 1, 1122: 1, 1128: 1, 1131: 3, 1132: 1, 1133: 1, 1134: 1, 1139: 2, 1140: 1, 1141: 1, 1142: 1, 1143: 1, 1144: 1, 1146: 2, 1147: 1, 1148: 2, 1151: 1, 1152: 1, 1153: 1, 1154: 3, 1156: 1, 1162: 1, 1173: 1, 1186: 1, 1187: 1, 1197: 1, 1199: 1, 1211: 1, 1212: 1, 1218: 1, 1223: 1, 1225: 1, 1240: 1, 1276: 1, 1278: 1, 1279: 1, 1317: 1, 1319: 1, 1336: 1, 1342: 1, 1346: 1, 1361: 1, 1373: 1}\n",
      "[92, 101, 114, 115, 116]\n",
      "[1, 1, 1, 1, 1]\n",
      "[(92, 1), (101, 1), (114, 1), (115, 1), (116, 1)]\n",
      "92 1373\n"
     ]
    }
   ],
   "source": [
    "depth_dict = {}\n",
    "for depth in depths:\n",
    "    if depth in depth_dict:\n",
    "        depth_dict[depth] = depth_dict[depth] + 1\n",
    "    else:\n",
    "        depth_dict[depth] = 1\n",
    "\n",
    "print(depth_dict)\n",
    "print(list(depth_dict.keys())[:5])\n",
    "print(list(depth_dict.values())[:5])\n",
    "print(list(depth_dict.items())[:5])\n",
    "print(min(depth_dict.keys()), max(depth_dict.keys()))"
   ]
  },
  {
   "cell_type": "markdown",
   "metadata": {},
   "source": [
    "How would we get a sorted list of depths, and the counts associated, to plot?\n"
   ]
  },
  {
   "cell_type": "code",
   "execution_count": 19,
   "metadata": {
    "collapsed": false
   },
   "outputs": [],
   "source": [
    "depths = sorted(depth_dict.keys())\n",
    "counts = [depth_dict[depth] for depth in depths]"
   ]
  },
  {
   "cell_type": "code",
   "execution_count": 35,
   "metadata": {
    "collapsed": false
   },
   "outputs": [],
   "source": [
    "items = sorted(depth_dict.items())\n",
    "depths = []\n",
    "counts = []\n",
    "for item in items:\n",
    "    depths.append(item[0])\n",
    "    counts.append(item[1])"
   ]
  },
  {
   "cell_type": "code",
   "execution_count": 36,
   "metadata": {
    "collapsed": false
   },
   "outputs": [
    {
     "data": {
      "text/plain": [
       "[<matplotlib.lines.Line2D at 0x10fa83c50>]"
      ]
     },
     "execution_count": 36,
     "metadata": {},
     "output_type": "execute_result"
    },
    {
     "data": {
      "image/png": "[encoded data removed]",
      "text/plain": [
       "<matplotlib.figure.Figure at 0x110052c18>"
      ]
     },
     "metadata": {},
     "output_type": "display_data"
    }
   ],
   "source": [
    "plt.plot(depths, counts)"
   ]
  },
  {
   "cell_type": "markdown",
   "metadata": {},
   "source": [
    "Some of that dictionary handling was more awkward than we'd like because we can't access a dictionary entry that\n",
    "doesn't exist yet.  In the line `depth_dict[depth] = depth_dict[depth] + 1`, `depth_dict[depth]` for a new depth is,\n",
    "reasonably, an error.  We could fix that if there was a default value.\n",
    "\n",
    "In the `collections` module, which has a lot of neat data structures, there's a `defaultdict` type which generates an empty dictionary with a given type, that provides a sensible default for that type.  A `defaultdict(int)` has \n",
    "a default value of 0 for new items, a `defaultdict(list) or (set)` has default values of an empty list or set, etc.\n",
    "\n",
    "This makes counting much easier:"
   ]
  },
  {
   "cell_type": "code",
   "execution_count": 39,
   "metadata": {
    "collapsed": false
   },
   "outputs": [],
   "source": [
    "import collections\n",
    "depth_dict = collections.defaultdict(int)\n",
    "\n",
    "for depth in depths:\n",
    "    depth_dict[depth] = depth_dict[depth] + 1"
   ]
  },
  {
   "cell_type": "code",
   "execution_count": 40,
   "metadata": {
    "collapsed": false
   },
   "outputs": [
    {
     "name": "stdout",
     "output_type": "stream",
     "text": [
      "[92, 101, 114, 115, 116]\n"
     ]
    }
   ],
   "source": [
    "print(list(depth_dict.keys())[:5])"
   ]
  },
  {
   "cell_type": "markdown",
   "metadata": {},
   "source": [
    "Hands on: given the name of a VCF file, write functions which generate defaultdict of counts by varianttype, genotype"
   ]
  },
  {
   "cell_type": "code",
   "execution_count": 63,
   "metadata": {
    "collapsed": true
   },
   "outputs": [],
   "source": [
    "def variant_type_counts(input_file):\n",
    "    type_counts = collections.defaultdict(int)\n",
    "    type_item = 'varType'\n",
    "    reader = vcf.Reader(filename=input_file)\n",
    "    for record in reader:\n",
    "        if type_item in record.INFO:\n",
    "            vartype = record.INFO[type_item]\n",
    "            type_counts[vartype] += 1\n",
    "    return type_counts\n",
    "\n",
    "def genotype_counts(input_file):\n",
    "    type_counts = collections.defaultdict(int)\n",
    "    type_item = 'GT'\n",
    "    reader = vcf.Reader(filename=input_file)\n",
    "    for record in reader:\n",
    "        for sample in record.samples:\n",
    "            gt = sample[type_item]\n",
    "            type_counts[gt] += 1\n",
    "    return type_counts"
   ]
  },
  {
   "cell_type": "code",
   "execution_count": 46,
   "metadata": {
    "collapsed": false
   },
   "outputs": [],
   "source": [
    "vt_counts = variant_type_counts(localfilename)"
   ]
  },
  {
   "cell_type": "code",
   "execution_count": 48,
   "metadata": {
    "collapsed": false
   },
   "outputs": [
    {
     "name": "stdout",
     "output_type": "stream",
     "text": [
      "defaultdict(<class 'int'>, {'SNP': 64150, 'INDEL': 9063})\n",
      "SNP 64150\n",
      "INDEL 9063\n"
     ]
    }
   ],
   "source": [
    "print(vt_counts)\n",
    "for vartype in vt_counts:\n",
    "    print(vartype, vt_counts[vartype])"
   ]
  },
  {
   "cell_type": "code",
   "execution_count": 64,
   "metadata": {
    "collapsed": false
   },
   "outputs": [
    {
     "name": "stdout",
     "output_type": "stream",
     "text": [
      "defaultdict(<class 'int'>, {'1/1': 26527, '1|2': 88, '3|2': 17, '2|1': 79, '1|0': 1, '3|1': 1, '2|3': 10, '1|3': 2, '0|1': 1, '0/1': 46686})\n",
      "1/1 26527\n",
      "1|2 88\n",
      "3|2 17\n",
      "2|1 79\n",
      "1|0 1\n",
      "3|1 1\n",
      "2|3 10\n",
      "1|3 2\n",
      "0|1 1\n",
      "0/1 46686\n"
     ]
    }
   ],
   "source": [
    "gt_counts = genotype_counts(localfilename)\n",
    "print(gt_counts)\n",
    "for gt in gt_counts:\n",
    "    print(gt, gt_counts[gt])"
   ]
  },
  {
   "cell_type": "code",
   "execution_count": 81,
   "metadata": {
    "collapsed": false
   },
   "outputs": [],
   "source": [
    "def get_all_platforms(input_file):\n",
    "    list_of_platforms = []\n",
    "    reader = vcf.Reader(filename=input_file)\n",
    "    info_field='platformnames'\n",
    "    for record in reader:\n",
    "        if info_field in record.INFO:\n",
    "            for platform in record.INFO[info_field]:\n",
    "                if not platform in list_of_platforms:\n",
    "                    list_of_platforms.append(platform)\n",
    "        linenum += 1\n",
    "    return list_of_platforms"
   ]
  },
  {
   "cell_type": "code",
   "execution_count": 82,
   "metadata": {
    "collapsed": false
   },
   "outputs": [],
   "source": [
    "platform_names = get_all_platforms(localfilename)"
   ]
  },
  {
   "cell_type": "code",
   "execution_count": 83,
   "metadata": {
    "collapsed": false
   },
   "outputs": [
    {
     "name": "stdout",
     "output_type": "stream",
     "text": [
      "['ill', '454', 'sol', 'cg', 'ion']\n"
     ]
    }
   ],
   "source": [
    "print(platform_names)"
   ]
  },
  {
   "cell_type": "markdown",
   "metadata": {},
   "source": [
    "Let's try to compare how the illiumina and 454 data agree or not on variants.  To do this, we'll get a dictionary of illumina variants, a dictionary of 454 variants, and see how they overlap.\n",
    "\n",
    "How are we going to treat variants as a dictionary?  Since we're only looking at one chromosome, there's only one position which matters: the position on chr20.  But there's many possible variants at that position: the (ref, alt) pair uniquely defines a variant at that position.\n",
    "\n",
    "So that's what we'll do: we'll create a dictionary of dict[position] = [... (ref,alt) ]."
   ]
  },
  {
   "cell_type": "code",
   "execution_count": 90,
   "metadata": {
    "collapsed": true
   },
   "outputs": [],
   "source": [
    "def variant_dict_by_platform(input_file, platform='ill'):\n",
    "    variant_dict = collections.defaultdict(list)\n",
    "\n",
    "    reader = vcf.Reader(filename=input_file)\n",
    "    info_field='platformnames'\n",
    "    for record in reader:\n",
    "        if info_field in record.INFO:\n",
    "            if platform in record.INFO[info_field]:\n",
    "                for alt in record.ALT:\n",
    "                    variant_dict[record.POS].append( (record.REF, str(alt)) )\n",
    "    return variant_dict"
   ]
  },
  {
   "cell_type": "code",
   "execution_count": 94,
   "metadata": {
    "collapsed": true
   },
   "outputs": [],
   "source": [
    "illumina = variant_dict_by_platform(localfilename)"
   ]
  },
  {
   "cell_type": "code",
   "execution_count": 92,
   "metadata": {
    "collapsed": false
   },
   "outputs": [],
   "source": [
    "roche = variant_dict_by_platform(localfilename, '454')"
   ]
  },
  {
   "cell_type": "code",
   "execution_count": 93,
   "metadata": {
    "collapsed": false
   },
   "outputs": [
    {
     "name": "stdout",
     "output_type": "stream",
     "text": [
      "[(15990784, [('C', T)]), (2621442, [('C', T)]), (3014659, [('G', A)]), (4980740, [('C', T)]), (23592966, [('C', A)])]\n",
      "[(15990784, [('C', 'T')]), (3014659, [('G', 'A')]), (4980740, [('C', 'T')]), (23592966, [('C', 'A')]), (50397185, [('G', 'A')])]\n"
     ]
    }
   ],
   "source": [
    "print(list(illumina.items())[:5])\n",
    "print(list(roche.items())[:5])"
   ]
  },
  {
   "cell_type": "code",
   "execution_count": 102,
   "metadata": {
    "collapsed": false
   },
   "outputs": [],
   "source": [
    "def number_variants(vardict):\n",
    "    nvariants = 0\n",
    "    for pos in vardict:\n",
    "        nvariants += len(vardict[pos])\n",
    "    return nvariants\n",
    "\n",
    "def compare_variant_dicts(vardict1, vardict2):\n",
    "    only_in_1 = 0\n",
    "    in_both = 0\n",
    "    for posn in vardict1:\n",
    "        for variant in vardict1[posn]:\n",
    "            if not posn in vardict2:\n",
    "                only_in_1 += 1\n",
    "            elif variant not in vardict2[posn]:\n",
    "                only_in_1 += 1\n",
    "            else:\n",
    "                in_both += 1\n",
    "    \n",
    "    only_in_2 = number_variants(vardict2) - in_both\n",
    "    \n",
    "    return only_in_1, in_both, only_in_2"
   ]
  },
  {
   "cell_type": "code",
   "execution_count": 97,
   "metadata": {
    "collapsed": false
   },
   "outputs": [
    {
     "data": {
      "text/plain": [
       "73213"
      ]
     },
     "execution_count": 97,
     "metadata": {},
     "output_type": "execute_result"
    }
   ],
   "source": [
    "number_variants(illumina)"
   ]
  },
  {
   "cell_type": "code",
   "execution_count": 98,
   "metadata": {
    "collapsed": false
   },
   "outputs": [
    {
     "data": {
      "text/plain": [
       "62000"
      ]
     },
     "execution_count": 98,
     "metadata": {},
     "output_type": "execute_result"
    }
   ],
   "source": [
    "number_variants(roche)"
   ]
  },
  {
   "cell_type": "code",
   "execution_count": 103,
   "metadata": {
    "collapsed": false
   },
   "outputs": [
    {
     "data": {
      "text/plain": [
       "(11213, 62000, 0)"
      ]
     },
     "execution_count": 103,
     "metadata": {},
     "output_type": "execute_result"
    }
   ],
   "source": [
    "compare_variant_dicts(illumina, roche)"
   ]
  },
  {
   "cell_type": "markdown",
   "metadata": {},
   "source": [
    "Hands on:\n",
    "\n",
    "* Try the other platforms and see how others compare\n",
    "* Generate a dictionary-of-dictionaries for all platforms, and do an all-vs-all comparison"
   ]
  },
  {
   "cell_type": "code",
   "execution_count": null,
   "metadata": {
    "collapsed": true
   },
   "outputs": [],
   "source": []
  }
 ],
 "metadata": {
  "kernelspec": {
   "display_name": "Python 3",
   "language": "python",
   "name": "python3"
  },
  "language_info": {
   "codemirror_mode": {
    "name": "ipython",
    "version": 3
   },
   "file_extension": ".py",
   "mimetype": "text/x-python",
   "name": "python",
   "nbconvert_exporter": "python",
   "pygments_lexer": "ipython3",
   "version": "3.5.1"
  }
 },
 "nbformat": 4,
 "nbformat_minor": 0
}
