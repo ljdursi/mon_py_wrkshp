{
 "cells": [
  {
   "cell_type": "markdown",
   "metadata": {},
   "source": [
    "# Ostensibly examining VCF files with pyvcf\n",
    "### But really, accessing remote files and some bioinformatic dictionary usage\n",
    "\n",
    "Objectives:\n",
    "\n",
    "* access remote files with streams or by downloading\n",
    "* practise scanning through a file, in this case record by record of VCF files\n",
    "* use dictionaries both to access INFO fields and to generate summary data\n",
    "* Compare across dictionaries"
   ]
  },
  {
   "cell_type": "code",
   "execution_count": 118,
   "metadata": {
    "collapsed": false
   },
   "outputs": [],
   "source": [
    "import vcf\n",
    "import urllib.request\n",
    "import matplotlib.pylab as plt\n",
    "%matplotlib inline"
   ]
  },
  {
   "cell_type": "markdown",
   "metadata": {},
   "source": [
    "The version of pyvcf we're using here doesn't handle opening remote URLs as nicely as pandas does.  However,\n",
    "it can take two types of input arguments; either something that looks like an open file, or a local filename.\n",
    "\n",
    "`urllib` lets us deal with remote files with URLs very nicely in a couple of ways we'll look at:\n",
    "scanning through the file, or just downloading it:"
   ]
  },
  {
   "cell_type": "code",
   "execution_count": 129,
   "metadata": {
    "collapsed": false
   },
   "outputs": [
    {
     "name": "stdout",
     "output_type": "stream",
     "text": [
      "NIST Genome in a Bottle NA12878 vcf/bed file repository (www.genomeinabottle.org)\n",
      "\n",
      "\n",
      "\n",
      "This is a repository of integrated snp and indel calls for NA12878, along with bed file that includes regions in which we believe our genotype calls are highly accurate (including homozygous reference calls if no snp or indel is called).  This is an updated version of our calls from Zook et al, Nat Biotech, 2014 (http://www.nature.com/nbt/journal/v32/n3/full/nbt.2835.html), which fixes a bug that caused more indels to be uncertain than necessary, so that these calls contain significantly more indels.  Otherwise, methods are similar to those described in the manuscript.\n",
      "\n",
      "\n",
      "\n"
     ]
    }
   ],
   "source": [
    "remote_readme=\"ftp://ftp-trace.ncbi.nih.gov/giab/ftp/release/NA12878_HG001/latest/README.NIST.v2.19.txt\"\n",
    "with urllib.request.urlopen(remote_readme) as remote_stream:\n",
    "    linecount = 0\n",
    "    for line in remote_stream:\n",
    "        #print(line)\n",
    "        print(line.decode('ascii'))\n",
    "        linecount = linecount + 1\n",
    "        if linecount > 3:\n",
    "            break"
   ]
  },
  {
   "cell_type": "markdown",
   "metadata": {},
   "source": [
    "We can open such a stream with a vcf reader and get the header information:"
   ]
  },
  {
   "cell_type": "code",
   "execution_count": 130,
   "metadata": {
    "collapsed": false
   },
   "outputs": [
    {
     "name": "stdout",
     "output_type": "stream",
     "text": [
      "Variant Level information\n",
      "AC\n",
      "AF\n",
      "AN\n",
      "DP\n",
      "DPSum\n",
      "Entropy\n",
      "HRun\n",
      "HapNoVar\n",
      "LEN\n",
      "NoCG\n",
      "NoPLTot\n",
      "PL454WG\n",
      "PLCG\n",
      "PLHSWEx\n",
      "PLHSWG\n",
      "PLILL250\n",
      "PLILLCLIA\n",
      "PLILLWEx\n",
      "PLILLWG\n",
      "PLIllPCRFree\n",
      "PLIonEx\n",
      "PLPlatGen\n",
      "PLXIll\n",
      "PLXPSolWGLS\n",
      "PLminsum\n",
      "PLminsumOverDP\n",
      "RPA\n",
      "RU\n",
      "TYPE\n",
      "TrancheABQDmin2\n",
      "TrancheAlignmin2\n",
      "TrancheMapmin2\n",
      "TrancheSSEmin2\n",
      "YesPLtot\n",
      "allalts\n",
      "datasetcalls\n",
      "filter\n",
      "geno\n",
      "genoMapGood\n",
      "platformbias\n",
      "platformnames\n",
      "platforms\n",
      "varType\n",
      "Sample Level information\n",
      "DP\n",
      "GQ\n",
      "GT\n",
      "PL\n"
     ]
    }
   ],
   "source": [
    "remote_file = \"ftp://ftp-trace.ncbi.nih.gov/giab/ftp/release/NA12878_HG001/latest/NISTIntegratedCalls_14datasets_131103_allcall_UGHapMerge_HetHomVarPASS_VQSRv2.19_2mindatasets_5minYesNoRatio_all_nouncert_excludesimplerep_excludesegdups_excludedecoy_excludeRepSeqSTRs_noCNVs.vcf.gz\"\n",
    "with urllib.request.urlopen(remote_file) as remote_stream:\n",
    "    v = vcf.Reader(remote_stream, compressed=True)\n",
    "\n",
    "    print('Variant Level information')\n",
    "    infos = v.infos\n",
    "    for info in infos:\n",
    "        print(info)\n",
    "\n",
    "    print('Sample Level information')\n",
    "    fmts = v.formats\n",
    "    for fmt in fmts:\n",
    "        print(fmt)"
   ]
  },
  {
   "cell_type": "markdown",
   "metadata": {},
   "source": [
    "But because we'll be scanning over this file repeatedly, let's get a subset of it locally:"
   ]
  },
  {
   "cell_type": "code",
   "execution_count": 104,
   "metadata": {
    "collapsed": false
   },
   "outputs": [
    {
     "data": {
      "text/plain": [
       "('NIST_chr20.vcf.gz', <http.client.HTTPMessage at 0x109891780>)"
      ]
     },
     "execution_count": 104,
     "metadata": {},
     "output_type": "execute_result"
    }
   ],
   "source": [
    "chr20_filename=\"https://github.com/ljdursi/mon_py_wrkshp/blob/master/NISTIntegratedCalls_chr20.vcf.gz?raw=true\"\n",
    "localfilename=\"NIST_chr20.vcf.gz\"\n",
    "urllib.request.urlretrieve(chr20_filename, localfilename)"
   ]
  },
  {
   "cell_type": "markdown",
   "metadata": {},
   "source": [
    "Let's see what we can do with one of these files.  When we open a vcf file, we have to call a function `next` to get a record:"
   ]
  },
  {
   "cell_type": "code",
   "execution_count": 146,
   "metadata": {
    "collapsed": false
   },
   "outputs": [
    {
     "name": "stdout",
     "output_type": "stream",
     "text": [
      "Record(CHROM=20, POS=61138, REF=C, ALT=[CT])\n",
      "{'RPA': [12, 13], 'platforms': 1, 'PLminsum': 4173, 'HapNoVar': 0, 'PLILLWG': ['133', '0', '108', '133', '133', '133'], 'PLNCIIonWG': ['0', '127', '127', '18', '127', '127'], 'PLILLCLIA': ['512', '0', '657', '657', '657', '657'], 'TrancheSSEmin2': 90.0, 'platformbias': ['none'], 'TrancheABQDmin2': 90.0, 'datasetcalls': 10, 'PLPlatGen': ['1922', '0', '2315', '2315', '2315', '2315'], 'PLIonEx': ['filteredSSE99.9Align99.9', '0', '46', '46', '6', '46', '46'], 'TrancheAlignmin2': 0.0, 'platformnames': ['ill'], 'varType': 'INDEL', 'PLHSWG': ['684', '0', '649', '684', '684', '684'], 'PLIllPCRFree': ['466', '0', '430', '466', '466', '466'], 'HRun': 0, 'YesPLtot': 7, 'geno': 2, 'RU': 'T', 'PLminsumOverDP': 7.31, 'PLXIll': ['281', '0', '284', '284', '284', '284'], 'genoMapGood': 7, 'allalts': ['CT', 'T'], 'DPSum': 571, 'NoPLTot': 1, 'PLCG': ['6', '0', '100', '100', '100', '100'], 'TrancheMapmin2': 0.0, 'PLILL250': ['296', '0', '430', '430', '430', '430']}\n",
      "['ill']\n",
      "[Call(sample=NA12878, CallData(GT=0/1, DP=571, GQ=4173, PL=[4300, 127, 5100]))]\n",
      "0/1\n"
     ]
    }
   ],
   "source": [
    "reader = vcf.Reader(filename=localfilename)\n",
    "record = next(reader)\n",
    "print(record)\n",
    "print(record.INFO)\n",
    "print(record.INFO['platformnames'])\n",
    "print(record.samples)\n",
    "print(record.samples[0]['GT'])"
   ]
  },
  {
   "cell_type": "markdown",
   "metadata": {},
   "source": [
    "The usual way to process a file, VCF or otherwise, is to loop over lines in the file and process them as you like:"
   ]
  },
  {
   "cell_type": "code",
   "execution_count": 147,
   "metadata": {
    "collapsed": false
   },
   "outputs": [
    {
     "name": "stdout",
     "output_type": "stream",
     "text": [
      "Record(CHROM=20, POS=61138, REF=C, ALT=[CT]) 0/1\n",
      "Record(CHROM=20, POS=67500, REF=T, ALT=[TTGGTATCTAG]) 0/1\n",
      "Record(CHROM=20, POS=68749, REF=T, ALT=[C]) 1/1\n",
      "Record(CHROM=20, POS=70484, REF=CTCTT, ALT=[C]) 0/1\n",
      "Record(CHROM=20, POS=70980, REF=G, ALT=[A]) 0/1\n"
     ]
    }
   ],
   "source": [
    "reader = vcf.Reader(filename=localfilename)\n",
    "recordnum = 0\n",
    "for record in reader:\n",
    "    print(record, record.samples[0]['GT'])\n",
    "    recordnum += 1\n",
    "    if recordnum == 5:\n",
    "        break"
   ]
  },
  {
   "cell_type": "markdown",
   "metadata": {},
   "source": [
    "Hands-on: write a function, `get_depths`, which is given a filename and generates a list of all `DPSum` info fields - this is the total depth across all platforms at which this base was seen."
   ]
  },
  {
   "cell_type": "code",
   "execution_count": 120,
   "metadata": {
    "collapsed": false
   },
   "outputs": [],
   "source": [
    "def get_depths(input_file):\n",
    "    depth_counts = []\n",
    "    depth_item = 'DPSum'\n",
    "    reader = vcf.Reader(filename=input_file)\n",
    "    for record in reader:\n",
    "        if depth_item in record.INFO:\n",
    "            depth = int(record.INFO[depth_item])\n",
    "            depth_counts.append(depth)\n",
    "    return depth_counts"
   ]
  },
  {
   "cell_type": "code",
   "execution_count": 122,
   "metadata": {
    "collapsed": false
   },
   "outputs": [],
   "source": [
    "depths = get_depths(localfilename)"
   ]
  },
  {
   "cell_type": "code",
   "execution_count": 124,
   "metadata": {
    "collapsed": false
   },
   "outputs": [
    {
     "data": {
      "text/plain": [
       "(array([  5.00000000e+00,   7.00000000e+00,   1.30000000e+01,\n",
       "          1.70000000e+01,   2.90000000e+01,   3.30000000e+01,\n",
       "          6.00000000e+01,   9.60000000e+01,   1.05000000e+02,\n",
       "          1.76000000e+02,   2.13000000e+02,   3.31000000e+02,\n",
       "          4.50000000e+02,   5.55000000e+02,   8.07000000e+02,\n",
       "          1.07400000e+03,   1.47600000e+03,   2.01000000e+03,\n",
       "          2.66600000e+03,   3.63600000e+03,   5.19100000e+03,\n",
       "          6.66000000e+03,   9.00000000e+03,   9.50300000e+03,\n",
       "          9.59300000e+03,   7.85300000e+03,   5.22900000e+03,\n",
       "          3.10800000e+03,   1.52900000e+03,   7.44000000e+02,\n",
       "          3.66000000e+02,   1.54000000e+02,   1.08000000e+02,\n",
       "          9.00000000e+01,   6.50000000e+01,   6.00000000e+01,\n",
       "          5.20000000e+01,   4.60000000e+01,   3.20000000e+01,\n",
       "          1.80000000e+01,   1.70000000e+01,   1.50000000e+01,\n",
       "          3.00000000e+00,   5.00000000e+00,   3.00000000e+00,\n",
       "          0.00000000e+00,   3.00000000e+00,   2.00000000e+00,\n",
       "          3.00000000e+00,   2.00000000e+00]),\n",
       " array([   92.  ,   117.62,   143.24,   168.86,   194.48,   220.1 ,\n",
       "          245.72,   271.34,   296.96,   322.58,   348.2 ,   373.82,\n",
       "          399.44,   425.06,   450.68,   476.3 ,   501.92,   527.54,\n",
       "          553.16,   578.78,   604.4 ,   630.02,   655.64,   681.26,\n",
       "          706.88,   732.5 ,   758.12,   783.74,   809.36,   834.98,\n",
       "          860.6 ,   886.22,   911.84,   937.46,   963.08,   988.7 ,\n",
       "         1014.32,  1039.94,  1065.56,  1091.18,  1116.8 ,  1142.42,\n",
       "         1168.04,  1193.66,  1219.28,  1244.9 ,  1270.52,  1296.14,\n",
       "         1321.76,  1347.38,  1373.  ]),\n",
       " <a list of 50 Patch objects>)"
      ]
     },
     "execution_count": 124,
     "metadata": {},
     "output_type": "execute_result"
    },
    {
     "data": {
      "image/png": "[encoded data removed]",
      "text/plain": [
       "<matplotlib.figure.Figure at 0x112646be0>"
      ]
     },
     "metadata": {},
     "output_type": "display_data"
    }
   ],
   "source": [
    "plt.hist(depths, bins=50)"
   ]
  },
  {
   "cell_type": "markdown",
   "metadata": {},
   "source": [
    "TODO:\n",
    "\n",
    "* Demonstrate: get counts as dictionary\n",
    "    * defaultdict\n",
    "* Hands on: generate defaultdict of counts by varianttype, genotype\n",
    "* Generate list of dictionaries of calls by platform type; using those, investigate overlap and no-overlap of calls by platform.  Eg, how many calls were made by illumina that weren't made by 10x?"
   ]
  }
 ],
 "metadata": {
  "kernelspec": {
   "display_name": "Python 3",
   "language": "python",
   "name": "python3"
  },
  "language_info": {
   "codemirror_mode": {
    "name": "ipython",
    "version": 3
   },
   "file_extension": ".py",
   "mimetype": "text/x-python",
   "name": "python",
   "nbconvert_exporter": "python",
   "pygments_lexer": "ipython3",
   "version": "3.5.1"
  }
 },
 "nbformat": 4,
 "nbformat_minor": 0
}
